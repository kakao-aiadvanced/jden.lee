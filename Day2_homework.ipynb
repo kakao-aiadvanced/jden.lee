{
 "cells": [
  {
   "cell_type": "code",
   "id": "initial_id",
   "metadata": {
    "collapsed": true,
    "ExecuteTime": {
     "end_time": "2024-07-30T08:19:57.282963Z",
     "start_time": "2024-07-30T08:19:55.117100Z"
    }
   },
   "source": [
    "%%capture --no-stderr\n",
    "%pip install langchain langchain-openai langchain-openai langchain_chroma langchain-text-splitters langchain_community langchainhub"
   ],
   "outputs": [],
   "execution_count": 78
  },
  {
   "metadata": {
    "ExecuteTime": {
     "end_time": "2024-07-30T08:19:57.287657Z",
     "start_time": "2024-07-30T08:19:57.285098Z"
    }
   },
   "cell_type": "code",
   "source": "question = \"What is the author's thought about RAG?\"",
   "id": "2d222f28169bcefe",
   "outputs": [],
   "execution_count": 79
  },
  {
   "metadata": {
    "ExecuteTime": {
     "end_time": "2024-07-30T08:20:04.066785Z",
     "start_time": "2024-07-30T08:19:57.288610Z"
    }
   },
   "cell_type": "code",
   "source": [
    "import getpass\n",
    "import os\n",
    "\n",
    "os.environ[\"OPENAI_API_KEY\"] = getpass.getpass()\n",
    "\n",
    "from langchain_openai import ChatOpenAI\n",
    "\n",
    "llm = ChatOpenAI(model=\"gpt-4o-mini\")"
   ],
   "id": "442bd285d15a1b9f",
   "outputs": [],
   "execution_count": 80
  },
  {
   "metadata": {
    "ExecuteTime": {
     "end_time": "2024-07-30T08:20:04.071329Z",
     "start_time": "2024-07-30T08:20:04.068775Z"
    }
   },
   "cell_type": "code",
   "source": [
    "def contains_word(docs, word):\n",
    "    for doc in docs:\n",
    "        if word in doc.page_content:\n",
    "            return True\n",
    "    return False"
   ],
   "id": "39589548860df6eb",
   "outputs": [],
   "execution_count": 81
  },
  {
   "metadata": {
    "ExecuteTime": {
     "end_time": "2024-07-30T08:20:07.237830Z",
     "start_time": "2024-07-30T08:20:04.072613Z"
    }
   },
   "cell_type": "code",
   "source": [
    "import bs4\n",
    "from langchain import hub\n",
    "from langchain_chroma import Chroma\n",
    "from langchain_community.document_loaders import WebBaseLoader\n",
    "from langchain_core.output_parsers import StrOutputParser\n",
    "from langchain_core.runnables import RunnablePassthrough\n",
    "from langchain_openai import OpenAIEmbeddings\n",
    "from langchain_text_splitters import RecursiveCharacterTextSplitter\n",
    "\n",
    "# Load, chunk and index the contents of the blog.\n",
    "loader = WebBaseLoader(\n",
    "    web_paths=(\"https://applied-llms.org/\",),\n",
    "    bs_kwargs=dict(\n",
    "        parse_only=bs4.SoupStrainer(\n",
    "            class_=(\"content\")\n",
    "        )\n",
    "    ),\n",
    ")\n",
    "\n",
    "docs = loader.load()\n",
    "\n",
    "text_splitter = RecursiveCharacterTextSplitter(chunk_size=1000, chunk_overlap=200)\n",
    "splits = text_splitter.split_documents(docs)\n",
    "vectorstore = Chroma.from_documents(documents=splits, embedding=OpenAIEmbeddings())\n",
    "\n",
    "# Retrieve and generate using the relevant snippets of the blog.\n",
    "retriever = vectorstore.as_retriever()"
   ],
   "id": "d312dfba3c3b00ca",
   "outputs": [],
   "execution_count": 82
  },
  {
   "metadata": {
    "ExecuteTime": {
     "end_time": "2024-07-30T08:20:07.532089Z",
     "start_time": "2024-07-30T08:20:07.238566Z"
    }
   },
   "cell_type": "code",
   "source": [
    "import sys\n",
    "\n",
    "def relevance_checker() :\n",
    "    if contains_word(docs, \"Author\"):\n",
    "        print(\"[relevance check] : OK\")\n",
    "\n",
    "    docs_mmr = vectorstore.max_marginal_relevance_search(question, k=2, fetch_k=3)\n",
    "    print(docs_mmr[0].page_content[:100])\n",
    "    print(docs_mmr[1].page_content[:100])\n",
    "    if docs_mmr[0].page_content[:100] == docs_mmr[1].page_content[:100]:\n",
    "        print(\"[relevance check] : OK\")\n",
    "        return True\n",
    "    return False\n",
    "    \n",
    "if not relevance_checker():\n",
    "    print(\"[relevance check] : No\")\n",
    "    sys.exit()\n"
   ],
   "id": "8ff91a0ab638898c",
   "outputs": [
    {
     "name": "stdout",
     "output_type": "stream",
     "text": [
      "[relevance check] : OK\n",
      "1.2.1 RAG is only as good as the retrieved documents’ relevance, density, and detail\n",
      "The quality of \n",
      "1.2.1 RAG is only as good as the retrieved documents’ relevance, density, and detail\n",
      "The quality of \n",
      "[relevance check] : OK\n"
     ]
    }
   ],
   "execution_count": 83
  },
  {
   "metadata": {
    "ExecuteTime": {
     "end_time": "2024-07-30T08:20:07.535308Z",
     "start_time": "2024-07-30T08:20:07.533221Z"
    }
   },
   "cell_type": "code",
   "source": "\n",
   "id": "3102b83b6f157a8f",
   "outputs": [],
   "execution_count": 83
  },
  {
   "metadata": {
    "ExecuteTime": {
     "end_time": "2024-07-30T08:20:08.302948Z",
     "start_time": "2024-07-30T08:20:07.536302Z"
    }
   },
   "cell_type": "code",
   "source": [
    "\n",
    "prompt = hub.pull(\"rlm/rag-prompt\")\n",
    "\n",
    "def format_docs(docs):\n",
    "    return \"\\n\\n\".join(doc.page_content for doc in docs)\n",
    "\n",
    "\n",
    "rag_chain = (\n",
    "        {\"context\": retriever | format_docs, \"question\": RunnablePassthrough()}\n",
    "        | prompt\n",
    "        | llm\n",
    "        | StrOutputParser()\n",
    ")\n"
   ],
   "id": "265b6416b90550e0",
   "outputs": [],
   "execution_count": 84
  },
  {
   "metadata": {
    "ExecuteTime": {
     "end_time": "2024-07-30T08:20:08.307508Z",
     "start_time": "2024-07-30T08:20:08.304828Z"
    }
   },
   "cell_type": "code",
   "source": "",
   "id": "f3dd86c0e9d5999",
   "outputs": [],
   "execution_count": 84
  },
  {
   "metadata": {
    "ExecuteTime": {
     "end_time": "2024-07-30T08:20:11.692215Z",
     "start_time": "2024-07-30T08:20:08.311967Z"
    }
   },
   "cell_type": "code",
   "source": [
    "answer = rag_chain.invoke(question)\n",
    "limit = 0\n",
    "\n",
    "def hallucination_checker(last_answer):\n",
    "    if not last_answer:\n",
    "        print(\"[hallucination check] : last_answer is empty\")\n",
    "        return False\n",
    "\n",
    "    answer_for_checking_hallucination = rag_chain.invoke(\"last answer : \" + last_answer + \"\\nWhat do you think this last answer means RAG is related with density? please answer yes or no\")\n",
    "    print(\"[answer for hallucination check] :\" + answer_for_checking_hallucination)\n",
    "    \n",
    "    if \"Yes.\" in answer_for_checking_hallucination:\n",
    "        print(\"[hallucination check] : okay\")\n",
    "        print(last_answer)\n",
    "        return True\n",
    "    return False\n",
    "\n",
    "\n",
    "while not hallucination_checker(answer) and limit < 10:\n",
    "    limit += 1\n",
    "    print(limit)\n",
    "\n",
    "\n"
   ],
   "id": "8076ba83ab3021da",
   "outputs": [
    {
     "name": "stdout",
     "output_type": "stream",
     "text": [
      "[answer for hallucination check] :Yes. The context indicates that the effectiveness of the RAG system depends on the density of the retrieved documents, along with relevance and detail. Therefore, density is indeed related to RAG.\n",
      "[hallucination check] : okay\n",
      "The author believes that the effectiveness of RAG (Retrieval-Augmented Generation) is heavily reliant on the relevance, density, and detail of the retrieved documents. The quality of RAG's output is determined by these factors, with relevance being a key metric assessed through ranking metrics like Mean Reciprocal Rank (MRR) and Normalized Discounted Cumulative Gain (NDCG). Thus, a well-functioning RAG system must effectively rank relevant documents higher than irrelevant ones.\n"
     ]
    }
   ],
   "execution_count": 85
  },
  {
   "metadata": {
    "ExecuteTime": {
     "end_time": "2024-07-30T08:20:11.697030Z",
     "start_time": "2024-07-30T08:20:11.694324Z"
    }
   },
   "cell_type": "code",
   "source": "",
   "id": "3fd847f8fb66cef8",
   "outputs": [],
   "execution_count": 85
  },
  {
   "metadata": {
    "ExecuteTime": {
     "end_time": "2024-07-30T08:20:11.701024Z",
     "start_time": "2024-07-30T08:20:11.698526Z"
    }
   },
   "cell_type": "code",
   "source": "",
   "id": "b61ebf133c6c5d82",
   "outputs": [],
   "execution_count": 85
  }
 ],
 "metadata": {
  "kernelspec": {
   "display_name": "Python 3",
   "language": "python",
   "name": "python3"
  },
  "language_info": {
   "codemirror_mode": {
    "name": "ipython",
    "version": 2
   },
   "file_extension": ".py",
   "mimetype": "text/x-python",
   "name": "python",
   "nbconvert_exporter": "python",
   "pygments_lexer": "ipython2",
   "version": "2.7.6"
  }
 },
 "nbformat": 4,
 "nbformat_minor": 5
}
