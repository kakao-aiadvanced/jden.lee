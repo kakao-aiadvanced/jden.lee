{
 "cells": [
  {
   "cell_type": "code",
   "id": "initial_id",
   "metadata": {
    "collapsed": true,
    "ExecuteTime": {
     "end_time": "2024-07-29T09:05:03.894222Z",
     "start_time": "2024-07-29T09:05:02.443976Z"
    }
   },
   "source": "!ollama pull llama3",
   "outputs": [
    {
     "name": "stdout",
     "output_type": "stream",
     "text": [
      "\u001B[?25lpulling manifest ⠋ \u001B[?25h\u001B[?25l\u001B[2K\u001B[1Gpulling manifest ⠙ \u001B[?25h\u001B[?25l\u001B[2K\u001B[1Gpulling manifest ⠹ \u001B[?25h\u001B[?25l\u001B[2K\u001B[1Gpulling manifest ⠸ \u001B[?25h\u001B[?25l\u001B[2K\u001B[1Gpulling manifest ⠼ \u001B[?25h\u001B[?25l\u001B[2K\u001B[1Gpulling manifest ⠴ \u001B[?25h\u001B[?25l\u001B[2K\u001B[1Gpulling manifest ⠦ \u001B[?25h\u001B[?25l\u001B[2K\u001B[1Gpulling manifest ⠧ \u001B[?25h\u001B[?25l\u001B[2K\u001B[1Gpulling manifest ⠇ \u001B[?25h\u001B[?25l\u001B[2K\u001B[1Gpulling manifest ⠏ \u001B[?25h\u001B[?25l\u001B[2K\u001B[1Gpulling manifest ⠋ \u001B[?25h\u001B[?25l\u001B[2K\u001B[1Gpulling manifest ⠙ \u001B[?25h\u001B[?25l\u001B[2K\u001B[1Gpulling manifest \r\n",
      "pulling 6a0746a1ec1a... 100% ▕████████████████▏ 4.7 GB                         \r\n",
      "pulling 4fa551d4f938... 100% ▕████████████████▏  12 KB                         \r\n",
      "pulling 8ab4849b038c... 100% ▕████████████████▏  254 B                         \r\n",
      "pulling 577073ffcc6c... 100% ▕████████████████▏  110 B                         \r\n",
      "pulling 3f8eb4da87fa... 100% ▕████████████████▏  485 B                         \r\n",
      "verifying sha256 digest \r\n",
      "writing manifest \r\n",
      "removing any unused layers \r\n",
      "success \u001B[?25h\r\n"
     ]
    }
   ],
   "execution_count": 22
  },
  {
   "metadata": {
    "ExecuteTime": {
     "end_time": "2024-07-29T09:05:05.499435Z",
     "start_time": "2024-07-29T09:05:03.896499Z"
    }
   },
   "cell_type": "code",
   "source": "!pip install --upgrade openai",
   "id": "5fd7278df9e966b2",
   "outputs": [
    {
     "name": "stdout",
     "output_type": "stream",
     "text": [
      "Requirement already satisfied: openai in /Users/jden/workspace/kakao/ai-advanced-ex/venv/lib/python3.9/site-packages (1.37.1)\r\n",
      "Requirement already satisfied: anyio<5,>=3.5.0 in /Users/jden/workspace/kakao/ai-advanced-ex/venv/lib/python3.9/site-packages (from openai) (3.7.1)\r\n",
      "Requirement already satisfied: distro<2,>=1.7.0 in /Users/jden/workspace/kakao/ai-advanced-ex/venv/lib/python3.9/site-packages (from openai) (1.9.0)\r\n",
      "Requirement already satisfied: httpx<1,>=0.23.0 in /Users/jden/workspace/kakao/ai-advanced-ex/venv/lib/python3.9/site-packages (from openai) (0.27.0)\r\n",
      "Requirement already satisfied: pydantic<3,>=1.9.0 in /Users/jden/workspace/kakao/ai-advanced-ex/venv/lib/python3.9/site-packages (from openai) (2.8.2)\r\n",
      "Requirement already satisfied: sniffio in /Users/jden/workspace/kakao/ai-advanced-ex/venv/lib/python3.9/site-packages (from openai) (1.3.1)\r\n",
      "Requirement already satisfied: tqdm>4 in /Users/jden/workspace/kakao/ai-advanced-ex/venv/lib/python3.9/site-packages (from openai) (4.66.1)\r\n",
      "Requirement already satisfied: typing-extensions<5,>=4.7 in /Users/jden/workspace/kakao/ai-advanced-ex/venv/lib/python3.9/site-packages (from openai) (4.12.2)\r\n",
      "Requirement already satisfied: idna>=2.8 in /Users/jden/workspace/kakao/ai-advanced-ex/venv/lib/python3.9/site-packages (from anyio<5,>=3.5.0->openai) (3.7)\r\n",
      "Requirement already satisfied: exceptiongroup in /Users/jden/workspace/kakao/ai-advanced-ex/venv/lib/python3.9/site-packages (from anyio<5,>=3.5.0->openai) (1.2.2)\r\n",
      "Requirement already satisfied: certifi in /Users/jden/workspace/kakao/ai-advanced-ex/venv/lib/python3.9/site-packages (from httpx<1,>=0.23.0->openai) (2024.7.4)\r\n",
      "Requirement already satisfied: httpcore==1.* in /Users/jden/workspace/kakao/ai-advanced-ex/venv/lib/python3.9/site-packages (from httpx<1,>=0.23.0->openai) (1.0.5)\r\n",
      "Requirement already satisfied: h11<0.15,>=0.13 in /Users/jden/workspace/kakao/ai-advanced-ex/venv/lib/python3.9/site-packages (from httpcore==1.*->httpx<1,>=0.23.0->openai) (0.14.0)\r\n",
      "Requirement already satisfied: annotated-types>=0.4.0 in /Users/jden/workspace/kakao/ai-advanced-ex/venv/lib/python3.9/site-packages (from pydantic<3,>=1.9.0->openai) (0.7.0)\r\n",
      "Requirement already satisfied: pydantic-core==2.20.1 in /Users/jden/workspace/kakao/ai-advanced-ex/venv/lib/python3.9/site-packages (from pydantic<3,>=1.9.0->openai) (2.20.1)\r\n",
      "\r\n",
      "\u001B[1m[\u001B[0m\u001B[34;49mnotice\u001B[0m\u001B[1;39;49m]\u001B[0m\u001B[39;49m A new release of pip is available: \u001B[0m\u001B[31;49m23.2.1\u001B[0m\u001B[39;49m -> \u001B[0m\u001B[32;49m24.2\u001B[0m\r\n",
      "\u001B[1m[\u001B[0m\u001B[34;49mnotice\u001B[0m\u001B[1;39;49m]\u001B[0m\u001B[39;49m To update, run: \u001B[0m\u001B[32;49mpip install --upgrade pip\u001B[0m\r\n"
     ]
    }
   ],
   "execution_count": 23
  },
  {
   "metadata": {
    "ExecuteTime": {
     "end_time": "2024-07-29T09:05:11.854864Z",
     "start_time": "2024-07-29T09:05:05.500710Z"
    }
   },
   "cell_type": "code",
   "source": [
    "!curl http://localhost:11434/api/chat -d \\\n",
    "'{\"model\": \"llama3\",\\\n",
    "\"messages\": [\\\n",
    "    { \"role\": \"system\", \"content\": \"You are a scientist\"},\\\n",
    "    { \"role\": \"user\", \"content\": \"why is the sky blue?\" }\\\n",
    "],\\\n",
    "\"stream\": false\\\n",
    "}'"
   ],
   "id": "9bce965d6d80d7c0",
   "outputs": [
    {
     "name": "stdout",
     "output_type": "stream",
     "text": [
      "{\"model\":\"llama3\",\"created_at\":\"2024-07-29T09:05:11.745664Z\",\"message\":{\"role\":\"assistant\",\"content\":\"The sky appears blue because of a fascinating phenomenon called Rayleigh scattering, which is named after the British physicist Lord Rayleigh who first described it in the late 19th century.\\n\\nHere's what happens: when sunlight enters Earth's atmosphere, it encounters tiny molecules of gases such as nitrogen (N2) and oxygen (O2). These molecules are much smaller than the wavelength of light itself. As a result, they scatter the light in all directions, but they do so more efficiently for shorter wavelengths, like blue and violet, rather than longer wavelengths, like red and orange.\\n\\nThis scattering effect is why we see the sky appear blue during the daytime. The blue light is scattered in every direction by the tiny molecules in the atmosphere, making it visible to our eyes from all parts of the planet. Meanwhile, the longer wavelengths of light, like red and orange, continue to travel in a straight line to our eyes with minimal scattering, which is why we see them as part of the sun's color.\\n\\nIt's worth noting that the exact shade of blue can vary depending on atmospheric conditions, such as pollution levels, water vapor content, and dust particles. But overall, the blue color of the sky is a direct result of Rayleigh scattering!\\n\\nWould you like to know more about other fascinating light-related phenomena or perhaps explore some related scientific concepts?\"},\"done_reason\":\"stop\",\"done\":true,\"total_duration\":6216038875,\"load_duration\":29476333,\"prompt_eval_count\":25,\"prompt_eval_duration\":449839000,\"eval_count\":270,\"eval_duration\":5735301000}"
     ]
    }
   ],
   "execution_count": 24
  },
  {
   "metadata": {
    "ExecuteTime": {
     "end_time": "2024-07-29T09:05:11.862212Z",
     "start_time": "2024-07-29T09:05:11.858066Z"
    }
   },
   "cell_type": "code",
   "source": [
    "import requests\n",
    "\n",
    "def call_lamma(systemContents, userContents):\n",
    "    url = \"http://localhost:11434/api/chat\"\n",
    "\n",
    "    # Define the payload\n",
    "    payload = {\n",
    "        \"model\": \"llama3\",\n",
    "        \"messages\": [\n",
    "            {\"role\": \"system\", \"content\": systemContents},\n",
    "            {\"role\": \"user\", \"content\": userContents}\n",
    "        ],\n",
    "        \"stream\": False\n",
    "    }\n",
    "    \n",
    "    # Make the POST request\n",
    "    response = requests.post(url, json=payload)\n",
    "    print(\"Response:\", response.json())\n",
    "\n",
    "\n"
   ],
   "id": "26010ee0a744a1dd",
   "outputs": [],
   "execution_count": 25
  },
  {
   "metadata": {
    "ExecuteTime": {
     "end_time": "2024-07-29T09:05:24.157156Z",
     "start_time": "2024-07-29T09:05:11.863161Z"
    }
   },
   "cell_type": "code",
   "source": [
    "from getpass import getpass\n",
    "import os\n",
    "\n",
    "api_key = getpass(\"API Key : \")\n",
    "os.environ['OPENAI_API_KEY'] = f\"{api_key}\"\n",
    "\n",
    "from openai import OpenAI\n",
    "\n",
    "client = OpenAI()\n",
    "\n",
    "def call_openai(systemContents, userContents):\n",
    "    completion = client.chat.completions.create(\n",
    "        model=\"gpt-4o-mini\",\n",
    "        messages=[\n",
    "            {\"role\": \"system\", \"content\": systemContents},\n",
    "            {\"role\": \"user\", \"content\": userContents}\n",
    "        ]\n",
    "    )\n",
    "\n",
    "    print(completion.choices[0].message)\n"
   ],
   "id": "99b52e48b3a77fc4",
   "outputs": [],
   "execution_count": 26
  },
  {
   "metadata": {
    "ExecuteTime": {
     "end_time": "2024-07-29T09:05:32.550764Z",
     "start_time": "2024-07-29T09:05:24.158090Z"
    }
   },
   "cell_type": "code",
   "source": "call_lamma(\"You are a scientist\",\"why is the sky blue?\")",
   "id": "7b49a452e30e58d",
   "outputs": [
    {
     "name": "stdout",
     "output_type": "stream",
     "text": [
      "Response: {'model': 'llama3', 'created_at': '2024-07-29T09:05:32.536288Z', 'message': {'role': 'assistant', 'content': \"The color of the sky is a fascinating topic!\\n\\nThe short answer is that the sky appears blue because of a phenomenon called Rayleigh scattering, named after the British physicist Lord Rayleigh. He was studying the properties of gases and discovered that shorter (blue) wavelengths are scattered more than longer (red) wavelengths by tiny particles in the atmosphere.\\n\\nHere's how it works:\\n\\n1. When sunlight enters Earth's atmosphere, it encounters tiny molecules of gases like nitrogen (N2) and oxygen (O2). These molecules are much smaller than the wavelength of light.\\n2. The shorter blue wavelengths are scattered more efficiently by these gas molecules because they have a larger cross-sectional area relative to their size. This means that the blue light is bounced around in all directions, reaching our eyes from every part of the sky.\\n3. The longer red and orange wavelengths, on the other hand, are not scattered as much because they have a smaller cross-sectional area. They travel in more direct paths to our eyes, reaching us mainly from the direction of the sun.\\n4. Since we see the combined effect of all these scattered blue photons and unscattered red photons, the sky appears blue during the daytime when the sun is overhead.\\n\\nIt's worth noting that the exact shade of blue can vary depending on several factors, such as:\\n\\n* Atmospheric conditions: Dust, pollution, and water vapor can scatter light in different ways, changing the apparent color of the sky.\\n* Time of day: As the sun moves lower in the sky, the scattering effect is reduced, and the sky may appear more orange or red due to the increased dominance of longer wavelengths.\\n* Altitude and atmospheric pressure: Higher altitudes and lower pressures can affect the scattering of light, making the sky appear more intense blue.\\n\\nSo, there you have it! The blue color of the sky is a beautiful example of how science and nature come together to create something truly awe-inspiring.\"}, 'done_reason': 'stop', 'done': True, 'total_duration': 8373062542, 'load_duration': 33760375, 'prompt_eval_count': 25, 'prompt_eval_duration': 219342000, 'eval_count': 389, 'eval_duration': 8118279000}\n"
     ]
    }
   ],
   "execution_count": 27
  },
  {
   "metadata": {
    "ExecuteTime": {
     "end_time": "2024-07-29T09:05:39.275963Z",
     "start_time": "2024-07-29T09:05:32.551716Z"
    }
   },
   "cell_type": "code",
   "source": "call_lamma(\"You are a scientist\",\"why is the sky blue?\")",
   "id": "d91355c5bbfe91db",
   "outputs": [
    {
     "name": "stdout",
     "output_type": "stream",
     "text": [
      "Response: {'model': 'llama3', 'created_at': '2024-07-29T09:05:39.266408Z', 'message': {'role': 'assistant', 'content': \"One of the most iconic and intriguing questions in all of science!\\n\\nThe short answer is that the sky appears blue because of a phenomenon called Rayleigh scattering, which is the scattering of light by small particles or molecules in the atmosphere.\\n\\nHere's what happens:\\n\\n1. When sunlight enters Earth's atmosphere, it contains all the colors of the visible spectrum (red, orange, yellow, green, blue, indigo, and violet).\\n2. As this light travels through the atmosphere, it encounters tiny molecules of gases like nitrogen (N2) and oxygen (O2), as well as aerosols like dust, water vapor, and pollutants.\\n3. These small particles scatter the light in all directions, but they do so more effectively for shorter wavelengths, like blue and violet light. This is because the smaller particles are more efficient at scattering the shorter wavelengths.\\n4. As a result, the blue and violet light is distributed evenly throughout the atmosphere, giving the sky its blue appearance.\\n5. The other colors in the spectrum, like red and orange, are not scattered as much and continue to travel in a more direct path to our eyes, which is why they appear less intense in the sky.\\n\\nIt's worth noting that the exact shade of blue can vary depending on atmospheric conditions, such as pollution levels, dust storms, or water vapor content. Additionally, during sunrise and sunset, the scattering effect can give the sky a more reddish hue due to the longer wavelengths of light being scattered more.\\n\\nNow, if you'll excuse me, I need to get back to my lab and finish analyzing those atmospheric samples...\"}, 'done_reason': 'stop', 'done': True, 'total_duration': 6710582792, 'load_duration': 12630917, 'prompt_eval_count': 25, 'prompt_eval_duration': 22471000, 'eval_count': 323, 'eval_duration': 6673207000}\n"
     ]
    }
   ],
   "execution_count": 28
  },
  {
   "metadata": {
    "ExecuteTime": {
     "end_time": "2024-07-29T09:08:11.931497Z",
     "start_time": "2024-07-29T09:08:09.084824Z"
    }
   },
   "cell_type": "code",
   "source": [
    "question = \"\\\n",
    "Translate the following words to Korean:\\\n",
    "1. book: 책\\\n",
    "2. cheese: 치즈\\\n",
    "3. water: 물\\\n",
    "4. bread: 빵\\\n",
    "5. apple: 사과\\\n",
    "\\\n",
    "Translate the word \\\"dog\\\":\\\n",
    "\"\n",
    "\n",
    "call_lamma(\"\",question)\n",
    "call_openai(\"\", question)"
   ],
   "id": "e4e764e0faa2596d",
   "outputs": [
    {
     "name": "stdout",
     "output_type": "stream",
     "text": [
      "Response: {'model': 'llama3', 'created_at': '2024-07-29T09:08:10.739088Z', 'message': {'role': 'assistant', 'content': 'Here are the translations:\\n\\n1. Book: 책 (chaek)\\n2. Cheese: 치즈 (chijeu)\\n3. Water: 물 (mul)\\n4. Bread: 빵 (bbang)\\n5. Apple: 사과 (sagwa)\\n\\nAnd, the translation of \"dog\" is:\\n\\n개 (gae)'}, 'done_reason': 'stop', 'done': True, 'total_duration': 1649961333, 'load_duration': 32280041, 'prompt_eval_count': 51, 'prompt_eval_duration': 223302000, 'eval_count': 69, 'eval_duration': 1392787000}\n",
      "ChatCompletionMessage(content='The translation of the word \"dog\" in Korean is \"개.\"', role='assistant', function_call=None, tool_calls=None)\n"
     ]
    }
   ],
   "execution_count": 30
  },
  {
   "metadata": {
    "ExecuteTime": {
     "end_time": "2024-07-29T09:13:25.624956Z",
     "start_time": "2024-07-29T09:13:23.539490Z"
    }
   },
   "cell_type": "code",
   "source": [
    "question2 = \"Determine the sentiment (positive or negative) of the following movie reviews:\\\n",
    "1. \\\"The movie was fantastic and had great acting.\\\": positive\\\n",
    "2. \\\"I hated the film; it was a complete waste of time.\\\": negative\\\n",
    "3. \\\"An excellent film that kept me on the edge of my seat.\\\": positive\\\n",
    "4. \\\"Terrible plot and horrible acting.\\\": negative\\\n",
    "5. \\\"A wonderful experience with stunning visuals.\\\": positive\\\n",
    "\\\n",
    "Review: \\\"The storyline was dull and uninspiring.\\\"\\\n",
    "Sentiment:\\\"\\\n",
    "\"\n",
    "\n",
    "call_lamma(\"\", question2)\n",
    "call_openai(\"\", question2 + \"Answer like the format I gave you include Review\")"
   ],
   "id": "9722d0954ccdbf1c",
   "outputs": [
    {
     "name": "stdout",
     "output_type": "stream",
     "text": [
      "Response: {'model': 'llama3', 'created_at': '2024-07-29T09:13:24.952194Z', 'message': {'role': 'assistant', 'content': 'Based on the phrase \"dull and uninspiring\", I would determine the sentiment of this review to be **negative**. The words \"dull\" and \"uninspiring\" convey a sense of lackluster or uninteresting, indicating that the reviewer did not enjoy the movie.'}, 'done_reason': 'stop', 'done': True, 'total_duration': 1407969541, 'load_duration': 35552916, 'prompt_eval_count': 113, 'prompt_eval_duration': 168265000, 'eval_count': 59, 'eval_duration': 1201934000}\n",
      "ChatCompletionMessage(content='Review: \"The storyline was dull and uninspiring.\" Sentiment: negative', role='assistant', function_call=None, tool_calls=None)\n"
     ]
    }
   ],
   "execution_count": 33
  },
  {
   "metadata": {
    "ExecuteTime": {
     "end_time": "2024-07-29T09:05:39.286251Z",
     "start_time": "2024-07-29T09:05:39.284922Z"
    }
   },
   "cell_type": "code",
   "source": "",
   "id": "4fda37268854b5a9",
   "outputs": [],
   "execution_count": 28
  },
  {
   "metadata": {
    "ExecuteTime": {
     "end_time": "2024-07-29T09:05:39.288673Z",
     "start_time": "2024-07-29T09:05:39.287368Z"
    }
   },
   "cell_type": "code",
   "source": "",
   "id": "65334652236790e9",
   "outputs": [],
   "execution_count": 28
  },
  {
   "metadata": {
    "ExecuteTime": {
     "end_time": "2024-07-29T09:05:39.291192Z",
     "start_time": "2024-07-29T09:05:39.289260Z"
    }
   },
   "cell_type": "code",
   "source": "",
   "id": "de4432a49da69d15",
   "outputs": [],
   "execution_count": 28
  }
 ],
 "metadata": {
  "kernelspec": {
   "display_name": "Python 3",
   "language": "python",
   "name": "python3"
  },
  "language_info": {
   "codemirror_mode": {
    "name": "ipython",
    "version": 2
   },
   "file_extension": ".py",
   "mimetype": "text/x-python",
   "name": "python",
   "nbconvert_exporter": "python",
   "pygments_lexer": "ipython2",
   "version": "2.7.6"
  }
 },
 "nbformat": 4,
 "nbformat_minor": 5
}
